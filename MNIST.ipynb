{
 "cells": [
  {
   "cell_type": "code",
   "execution_count": 10,
   "metadata": {},
   "outputs": [],
   "source": [
    "import tensorflow as tf\n",
    "import numpy as np"
   ]
  },
  {
   "cell_type": "code",
   "execution_count": 80,
   "metadata": {},
   "outputs": [],
   "source": [
    "tf.reset_default_graph()"
   ]
  },
  {
   "cell_type": "markdown",
   "metadata": {},
   "source": [
    "Construction Phase"
   ]
  },
  {
   "cell_type": "code",
   "execution_count": 81,
   "metadata": {},
   "outputs": [],
   "source": [
    "n_inputs = 28 * 28\n",
    "n_hidden1 = 500\n",
    "n_hidden2 = 200\n",
    "n_outputs = 10"
   ]
  },
  {
   "cell_type": "code",
   "execution_count": 82,
   "metadata": {},
   "outputs": [],
   "source": [
    "X = tf.placeholder(name='X', shape=(None, n_inputs), dtype=tf.float32)\n",
    "y = tf.placeholder(name='y', shape=(None), dtype=tf.int64)"
   ]
  },
  {
   "cell_type": "code",
   "execution_count": 29,
   "metadata": {},
   "outputs": [],
   "source": [
    "def neuron_layer(X, n_neurons, name, activation=None):\n",
    "    with tf.name_scope(name):\n",
    "        n_inputs = int(X.get_shape()[1])\n",
    "        stddev = 2 / np.sqrt(n_inputs + n_neurons)\n",
    "        init = tf.truncated_normal((n_inputs, n_neurons), stddev=stddev)\n",
    "        W = tf.Variable(init, name='kernel')\n",
    "        b = tf.Variable(tf.zeros([n_neurons]), name='bias')\n",
    "        Z = tf.matmul(X, W) + b\n",
    "        if activation is not None:\n",
    "            return activation(Z)\n",
    "        else:\n",
    "            return Z"
   ]
  },
  {
   "cell_type": "markdown",
   "metadata": {},
   "source": [
    "Using custom neuron_layer() function (Run one of the following two cells)"
   ]
  },
  {
   "cell_type": "code",
   "execution_count": 30,
   "metadata": {},
   "outputs": [],
   "source": [
    "with tf.name_scope('dnn1'):\n",
    "    hidden1 = neuron_layer(X, n_hidden1, 'hidden1', tf.nn.relu)\n",
    "    hidden2 = neuron_layer(hidden1, n_hidden2, 'hidden2', tf.nn.relu)\n",
    "    logits = neuron_layer(hidden2, n_outputs, 'outputs')"
   ]
  },
  {
   "cell_type": "markdown",
   "metadata": {},
   "source": [
    "Using TF library function"
   ]
  },
  {
   "cell_type": "code",
   "execution_count": 83,
   "metadata": {},
   "outputs": [],
   "source": [
    "with tf.name_scope('dnn2'):\n",
    "    hidden1 = tf.layers.dense(X, n_hidden1, name='hidden1', activation=tf.nn.elu)\n",
    "    hidden2 = tf.layers.dense(hidden1, n_hidden2, name='hidden2', activation=tf.nn.elu)\n",
    "    logits = tf.layers.dense(hidden2, n_outputs, name='outputs')"
   ]
  },
  {
   "cell_type": "code",
   "execution_count": 84,
   "metadata": {},
   "outputs": [],
   "source": [
    "with tf.name_scope('loss'):\n",
    "    cross_entropy = tf.nn.sparse_softmax_cross_entropy_with_logits(labels=y, logits=logits)\n",
    "    loss = tf.reduce_mean(cross_entropy, name='loss')"
   ]
  },
  {
   "cell_type": "code",
   "execution_count": 85,
   "metadata": {},
   "outputs": [],
   "source": [
    "learning_rate = 0.1\n",
    "with tf.name_scope('train'):\n",
    "    optimiser = tf.train.GradientDescentOptimizer(learning_rate=learning_rate)\n",
    "    training_op = optimiser.minimize(loss)"
   ]
  },
  {
   "cell_type": "code",
   "execution_count": 86,
   "metadata": {},
   "outputs": [],
   "source": [
    "with tf.name_scope('eval'):\n",
    "    correct = tf.nn.in_top_k(logits, y, 1)\n",
    "    accuracy = tf.reduce_mean(tf.cast(correct, tf.float32))"
   ]
  },
  {
   "cell_type": "code",
   "execution_count": 87,
   "metadata": {},
   "outputs": [],
   "source": [
    "init = tf.global_variables_initializer()\n",
    "saver = tf.train.Saver()"
   ]
  },
  {
   "cell_type": "markdown",
   "metadata": {},
   "source": [
    "Execution Phase"
   ]
  },
  {
   "cell_type": "code",
   "execution_count": 19,
   "metadata": {},
   "outputs": [
    {
     "name": "stdout",
     "output_type": "stream",
     "text": [
      "Extracting /tmp/data/train-images-idx3-ubyte.gz\n",
      "Extracting /tmp/data/train-labels-idx1-ubyte.gz\n",
      "Extracting /tmp/data/t10k-images-idx3-ubyte.gz\n",
      "Extracting /tmp/data/t10k-labels-idx1-ubyte.gz\n"
     ]
    }
   ],
   "source": [
    "from tensorflow.examples.tutorials.mnist import input_data\n",
    "mnist = input_data.read_data_sets(\"/tmp/data\")"
   ]
  },
  {
   "cell_type": "code",
   "execution_count": 20,
   "metadata": {},
   "outputs": [
    {
     "data": {
      "text/plain": [
       "1100"
      ]
     },
     "execution_count": 20,
     "metadata": {},
     "output_type": "execute_result"
    }
   ],
   "source": [
    "mnist.train.labels.shape[0]\n",
    "mnist.train.num_examples // 50"
   ]
  },
  {
   "cell_type": "code",
   "execution_count": 88,
   "metadata": {},
   "outputs": [
    {
     "name": "stdout",
     "output_type": "stream",
     "text": [
      "Epoch: 0 Training Accuracy: 0.9200000166893005 Validation Accuracy: 0.9405999779701233\n",
      "Epoch: 1 Training Accuracy: 0.9800000190734863 Validation Accuracy: 0.9588000178337097\n",
      "Epoch: 2 Training Accuracy: 0.9800000190734863 Validation Accuracy: 0.9710000157356262\n",
      "Epoch: 3 Training Accuracy: 1.0 Validation Accuracy: 0.9728000164031982\n",
      "Epoch: 4 Training Accuracy: 1.0 Validation Accuracy: 0.9765999913215637\n",
      "Epoch: 5 Training Accuracy: 1.0 Validation Accuracy: 0.977400004863739\n",
      "Epoch: 6 Training Accuracy: 1.0 Validation Accuracy: 0.9782000184059143\n",
      "Epoch: 7 Training Accuracy: 1.0 Validation Accuracy: 0.9765999913215637\n",
      "Epoch: 8 Training Accuracy: 1.0 Validation Accuracy: 0.9801999926567078\n",
      "Epoch: 9 Training Accuracy: 1.0 Validation Accuracy: 0.9801999926567078\n",
      "Epoch: 10 Training Accuracy: 1.0 Validation Accuracy: 0.9789999723434448\n",
      "Epoch: 11 Training Accuracy: 1.0 Validation Accuracy: 0.9753999710083008\n",
      "Epoch: 12 Training Accuracy: 1.0 Validation Accuracy: 0.9797999858856201\n",
      "Epoch: 13 Training Accuracy: 1.0 Validation Accuracy: 0.9829999804496765\n",
      "Epoch: 14 Training Accuracy: 1.0 Validation Accuracy: 0.9814000129699707\n",
      "Epoch: 15 Training Accuracy: 1.0 Validation Accuracy: 0.9825999736785889\n",
      "Epoch: 16 Training Accuracy: 1.0 Validation Accuracy: 0.9811999797821045\n",
      "Epoch: 17 Training Accuracy: 1.0 Validation Accuracy: 0.9818000197410583\n",
      "Epoch: 18 Training Accuracy: 1.0 Validation Accuracy: 0.9833999872207642\n",
      "Epoch: 19 Training Accuracy: 1.0 Validation Accuracy: 0.9814000129699707\n",
      "Epoch: 20 Training Accuracy: 1.0 Validation Accuracy: 0.9818000197410583\n",
      "Epoch: 21 Training Accuracy: 1.0 Validation Accuracy: 0.9832000136375427\n",
      "Epoch: 22 Training Accuracy: 1.0 Validation Accuracy: 0.9833999872207642\n",
      "Epoch: 23 Training Accuracy: 1.0 Validation Accuracy: 0.9847999811172485\n",
      "Epoch: 24 Training Accuracy: 1.0 Validation Accuracy: 0.9836000204086304\n",
      "Epoch: 25 Training Accuracy: 1.0 Validation Accuracy: 0.9829999804496765\n",
      "Epoch: 26 Training Accuracy: 1.0 Validation Accuracy: 0.9832000136375427\n",
      "Epoch: 27 Training Accuracy: 1.0 Validation Accuracy: 0.984000027179718\n",
      "Epoch: 28 Training Accuracy: 1.0 Validation Accuracy: 0.9828000068664551\n",
      "Epoch: 29 Training Accuracy: 1.0 Validation Accuracy: 0.9828000068664551\n",
      "Epoch: 30 Training Accuracy: 1.0 Validation Accuracy: 0.9842000007629395\n",
      "Epoch: 31 Training Accuracy: 1.0 Validation Accuracy: 0.9836000204086304\n",
      "Epoch: 32 Training Accuracy: 1.0 Validation Accuracy: 0.9815999865531921\n",
      "Epoch: 33 Training Accuracy: 1.0 Validation Accuracy: 0.9837999939918518\n",
      "Epoch: 34 Training Accuracy: 1.0 Validation Accuracy: 0.9837999939918518\n",
      "Epoch: 35 Training Accuracy: 1.0 Validation Accuracy: 0.9825999736785889\n",
      "Epoch: 36 Training Accuracy: 1.0 Validation Accuracy: 0.9829999804496765\n",
      "Epoch: 37 Training Accuracy: 1.0 Validation Accuracy: 0.9843999743461609\n",
      "Epoch: 38 Training Accuracy: 1.0 Validation Accuracy: 0.9832000136375427\n",
      "Epoch: 39 Training Accuracy: 1.0 Validation Accuracy: 0.9825999736785889\n"
     ]
    }
   ],
   "source": [
    "n_epochs = 40\n",
    "batch_size = 50\n",
    "\n",
    "with tf.Session() as sess:\n",
    "    init.run()\n",
    "    for epoch in range(n_epochs):\n",
    "        for iteration in range(mnist.train.num_examples // batch_size):\n",
    "            X_batch, y_batch = mnist.train.next_batch(batch_size=batch_size)\n",
    "            sess.run(training_op, feed_dict={X: X_batch, y: y_batch})\n",
    "        acc_train = accuracy.eval(feed_dict={X: X_batch, y: y_batch})\n",
    "        acc_eval = accuracy.eval(feed_dict={X: mnist.validation.images, y: mnist.validation.labels})\n",
    "        print('Epoch: {} Training Accuracy: {} Validation Accuracy: {}'.format(epoch, acc_train, acc_eval))\n",
    "    saver_path = saver.save(sess, \"/tmp/mnist_dnn_model_final.ckpt\")"
   ]
  },
  {
   "cell_type": "code",
   "execution_count": null,
   "metadata": {},
   "outputs": [],
   "source": [
    "mnist.test.images[0, :].reshape((1, -1)).shape"
   ]
  },
  {
   "cell_type": "code",
   "execution_count": 89,
   "metadata": {},
   "outputs": [
    {
     "name": "stdout",
     "output_type": "stream",
     "text": [
      "INFO:tensorflow:Restoring parameters from /tmp/mnist_dnn_model_final.ckpt\n",
      "0.981\n"
     ]
    }
   ],
   "source": [
    "with tf.Session() as sess:\n",
    "    saver.restore(sess, \"/tmp/mnist_dnn_model_final.ckpt\")\n",
    "    Z = logits.eval(feed_dict = {X: mnist.test.images})\n",
    "    y_pred = np.argmax(Z, axis = 1)\n",
    "    print(np.mean(y_pred == mnist.test.labels).astype(np.float32))"
   ]
  }
 ],
 "metadata": {
  "kernelspec": {
   "display_name": "Python 3",
   "language": "python",
   "name": "python3"
  },
  "language_info": {
   "codemirror_mode": {
    "name": "ipython",
    "version": 3
   },
   "file_extension": ".py",
   "mimetype": "text/x-python",
   "name": "python",
   "nbconvert_exporter": "python",
   "pygments_lexer": "ipython3",
   "version": "3.5.4"
  }
 },
 "nbformat": 4,
 "nbformat_minor": 2
}
